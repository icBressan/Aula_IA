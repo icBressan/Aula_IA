{
  "nbformat": 4,
  "nbformat_minor": 0,
  "metadata": {
    "colab": {
      "provenance": [],
      "authorship_tag": "ABX9TyPBwLy7HG1pqdU2lpWjdmcY",
      "include_colab_link": true
    },
    "kernelspec": {
      "name": "python3",
      "display_name": "Python 3"
    },
    "language_info": {
      "name": "python"
    }
  },
  "cells": [
    {
      "cell_type": "markdown",
      "metadata": {
        "id": "view-in-github",
        "colab_type": "text"
      },
      "source": [
        "<a href=\"https://colab.research.google.com/github/icBressan/Aula_IA/blob/main/Colab/Aula1.ipynb\" target=\"_parent\"><img src=\"https://colab.research.google.com/assets/colab-badge.svg\" alt=\"Open In Colab\"/></a>"
      ]
    },
    {
      "cell_type": "markdown",
      "source": [
        "# Aula 01 - Introdução ao notebook do Google\n"
      ],
      "metadata": {
        "id": "7Jl0ofncb6FB"
      }
    },
    {
      "cell_type": "markdown",
      "source": [
        "## Testando variaveis do python"
      ],
      "metadata": {
        "id": "QIyhv2hZcV7Z"
      }
    },
    {
      "cell_type": "code",
      "execution_count": 1,
      "metadata": {
        "id": "8B0tf64qatvy"
      },
      "outputs": [],
      "source": [
        "nome = 'Isabelle'"
      ]
    },
    {
      "cell_type": "code",
      "source": [
        "idade = 46"
      ],
      "metadata": {
        "id": "uN65qOwJbZmR"
      },
      "execution_count": 2,
      "outputs": []
    },
    {
      "cell_type": "code",
      "source": [
        "altura = 1.63"
      ],
      "metadata": {
        "id": "NqAltFqSbe5Z"
      },
      "execution_count": 4,
      "outputs": []
    },
    {
      "cell_type": "code",
      "source": [
        "nome"
      ],
      "metadata": {
        "colab": {
          "base_uri": "https://localhost:8080/",
          "height": 35
        },
        "id": "jBNrt4tibmcZ",
        "outputId": "82374604-e29a-421e-9648-4677624e4506"
      },
      "execution_count": 5,
      "outputs": [
        {
          "output_type": "execute_result",
          "data": {
            "text/plain": [
              "'Isabelle'"
            ],
            "application/vnd.google.colaboratory.intrinsic+json": {
              "type": "string"
            }
          },
          "metadata": {},
          "execution_count": 5
        }
      ]
    },
    {
      "cell_type": "code",
      "source": [
        "nome.upper()"
      ],
      "metadata": {
        "colab": {
          "base_uri": "https://localhost:8080/",
          "height": 35
        },
        "id": "x0nfLpuabnvo",
        "outputId": "c708ecd4-8d13-4f89-9113-712ee53ad05c"
      },
      "execution_count": 7,
      "outputs": [
        {
          "output_type": "execute_result",
          "data": {
            "text/plain": [
              "'ISABELLE'"
            ],
            "application/vnd.google.colaboratory.intrinsic+json": {
              "type": "string"
            }
          },
          "metadata": {},
          "execution_count": 7
        }
      ]
    },
    {
      "cell_type": "markdown",
      "source": [
        "## Operações Aritméticas"
      ],
      "metadata": {
        "id": "1Fq2t4BJcrix"
      }
    },
    {
      "cell_type": "code",
      "source": [
        "idade *365"
      ],
      "metadata": {
        "colab": {
          "base_uri": "https://localhost:8080/"
        },
        "id": "20VXrkJsc1fh",
        "outputId": "b5199291-738b-4442-f0ce-664ce9d143d1"
      },
      "execution_count": 8,
      "outputs": [
        {
          "output_type": "execute_result",
          "data": {
            "text/plain": [
              "16790"
            ]
          },
          "metadata": {},
          "execution_count": 8
        }
      ]
    },
    {
      "cell_type": "code",
      "source": [
        "altura **2"
      ],
      "metadata": {
        "colab": {
          "base_uri": "https://localhost:8080/"
        },
        "id": "d0IhxGiIc1mQ",
        "outputId": "9a13e5bd-cfdf-4c7e-ddbd-aafd77df94c9"
      },
      "execution_count": 9,
      "outputs": [
        {
          "output_type": "execute_result",
          "data": {
            "text/plain": [
              "2.6569"
            ]
          },
          "metadata": {},
          "execution_count": 9
        }
      ]
    },
    {
      "cell_type": "markdown",
      "source": [
        "# Estruturas de controle"
      ],
      "metadata": {
        "id": "-2w7TOECdaF5"
      }
    },
    {
      "cell_type": "code",
      "source": [
        "# prompt: implemente uma estrutura de decisão com a idade, se a idade for maior ou igual a 18 exibir a mensagem atingiu a maioridade, se nn, exibir nao atingiu a maior idade\n",
        "\n",
        "idade = 46  # Substitua pela idade desejada\n",
        "\n",
        "if idade >= 18:\n",
        "  print(\"Atingiu a maioridade\")\n",
        "else:\n",
        "  print(\"Não atingiu a maior idade\")\n"
      ],
      "metadata": {
        "colab": {
          "base_uri": "https://localhost:8080/"
        },
        "id": "Ml-nVW94c1uJ",
        "outputId": "5f787653-f496-460c-a203-3fbc1de61ef0"
      },
      "execution_count": 10,
      "outputs": [
        {
          "output_type": "stream",
          "name": "stdout",
          "text": [
            "Atingiu a maioridade\n"
          ]
        }
      ]
    },
    {
      "cell_type": "code",
      "source": [],
      "metadata": {
        "id": "9esf1y2keWvS"
      },
      "execution_count": null,
      "outputs": []
    },
    {
      "cell_type": "markdown",
      "source": [
        "# Arrays\n",
        "O array ou vetor é uma variavel unidimensional, utilizada para armazenar varios valores osb uma unico identificados.\n",
        "\n",
        "Variações:\n",
        "- Matriz\n",
        "- Vetor"
      ],
      "metadata": {
        "id": "nnwpq_DBenzp"
      }
    },
    {
      "cell_type": "code",
      "source": [
        "notas = [10,5,5.6,8,9,10]\n",
        "notas"
      ],
      "metadata": {
        "colab": {
          "base_uri": "https://localhost:8080/"
        },
        "id": "RlboOXrXfNiS",
        "outputId": "0e75f77b-e46d-4ab9-e5f7-91c38aca214b"
      },
      "execution_count": 11,
      "outputs": [
        {
          "output_type": "execute_result",
          "data": {
            "text/plain": [
              "[10, 5, 5.6, 8, 9, 10]"
            ]
          },
          "metadata": {},
          "execution_count": 11
        }
      ]
    },
    {
      "cell_type": "code",
      "source": [
        "for nota in notas:\n",
        "  print(nota)"
      ],
      "metadata": {
        "colab": {
          "base_uri": "https://localhost:8080/"
        },
        "id": "Jbv-bBVMfgGq",
        "outputId": "faaefa1d-9fe2-468d-a24b-17a616a36164"
      },
      "execution_count": 12,
      "outputs": [
        {
          "output_type": "stream",
          "name": "stdout",
          "text": [
            "10\n",
            "5\n",
            "5.6\n",
            "8\n",
            "9\n",
            "10\n"
          ]
        }
      ]
    }
  ]
}